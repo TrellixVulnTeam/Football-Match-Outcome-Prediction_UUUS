{
 "cells": [
  {
   "cell_type": "code",
   "execution_count": 143,
   "metadata": {},
   "outputs": [],
   "source": [
    "%matplotlib inline\n",
    "\n",
    "import matplotlib.pyplot as plt\n",
    "import numpy as np\n",
    "import pandas as pd\n",
    "import seaborn as sns\n",
    "import glob\n",
    "import os\n",
    "from scipy.stats import entropy"
   ]
  },
  {
   "cell_type": "code",
   "execution_count": 164,
   "metadata": {},
   "outputs": [],
   "source": [
    "filepaths = [\"Football-Dataset/premier_league/\"+ f for f in os.listdir(\"Football-Dataset/premier_league\") if f.endswith('.csv')]\n",
    "premierLeague = pd.concat(map(pd.read_csv, filepaths))"
   ]
  },
  {
   "cell_type": "code",
   "execution_count": 165,
   "metadata": {},
   "outputs": [
    {
     "data": {
      "text/html": [
       "<div>\n",
       "<style scoped>\n",
       "    .dataframe tbody tr th:only-of-type {\n",
       "        vertical-align: middle;\n",
       "    }\n",
       "\n",
       "    .dataframe tbody tr th {\n",
       "        vertical-align: top;\n",
       "    }\n",
       "\n",
       "    .dataframe thead th {\n",
       "        text-align: right;\n",
       "    }\n",
       "</style>\n",
       "<table border=\"1\" class=\"dataframe\">\n",
       "  <thead>\n",
       "    <tr style=\"text-align: right;\">\n",
       "      <th></th>\n",
       "      <th>Home_Team</th>\n",
       "      <th>Away_Team</th>\n",
       "      <th>Result</th>\n",
       "      <th>Link</th>\n",
       "      <th>Season</th>\n",
       "      <th>Round</th>\n",
       "      <th>League</th>\n",
       "    </tr>\n",
       "  </thead>\n",
       "  <tbody>\n",
       "    <tr>\n",
       "      <th>0</th>\n",
       "      <td>Charlton Athletic</td>\n",
       "      <td>Derby County</td>\n",
       "      <td>0-0</td>\n",
       "      <td>https://www.besoccer.com/match/charlton-athlet...</td>\n",
       "      <td>1990</td>\n",
       "      <td>1</td>\n",
       "      <td>premier_league</td>\n",
       "    </tr>\n",
       "    <tr>\n",
       "      <th>1</th>\n",
       "      <td>Tottenham Hotspur</td>\n",
       "      <td>Luton Town</td>\n",
       "      <td>2-1</td>\n",
       "      <td>https://www.besoccer.com/match/tottenham-hotsp...</td>\n",
       "      <td>1990</td>\n",
       "      <td>1</td>\n",
       "      <td>premier_league</td>\n",
       "    </tr>\n",
       "    <tr>\n",
       "      <th>2</th>\n",
       "      <td>Southampton</td>\n",
       "      <td>Millwall</td>\n",
       "      <td>1-2</td>\n",
       "      <td>https://www.besoccer.com/match/southampton-fc/...</td>\n",
       "      <td>1990</td>\n",
       "      <td>1</td>\n",
       "      <td>premier_league</td>\n",
       "    </tr>\n",
       "    <tr>\n",
       "      <th>3</th>\n",
       "      <td>Sheffield Wednesday</td>\n",
       "      <td>Norwich City</td>\n",
       "      <td>0-2</td>\n",
       "      <td>https://www.besoccer.com/match/sheffield-wedne...</td>\n",
       "      <td>1990</td>\n",
       "      <td>1</td>\n",
       "      <td>premier_league</td>\n",
       "    </tr>\n",
       "    <tr>\n",
       "      <th>4</th>\n",
       "      <td>Queens Park Rangers</td>\n",
       "      <td>Crystal Palace</td>\n",
       "      <td>2-0</td>\n",
       "      <td>https://www.besoccer.com/match/queens-park-ran...</td>\n",
       "      <td>1990</td>\n",
       "      <td>1</td>\n",
       "      <td>premier_league</td>\n",
       "    </tr>\n",
       "  </tbody>\n",
       "</table>\n",
       "</div>"
      ],
      "text/plain": [
       "             Home_Team       Away_Team Result  \\\n",
       "0    Charlton Athletic    Derby County    0-0   \n",
       "1    Tottenham Hotspur      Luton Town    2-1   \n",
       "2          Southampton        Millwall    1-2   \n",
       "3  Sheffield Wednesday    Norwich City    0-2   \n",
       "4  Queens Park Rangers  Crystal Palace    2-0   \n",
       "\n",
       "                                                Link  Season  Round  \\\n",
       "0  https://www.besoccer.com/match/charlton-athlet...    1990      1   \n",
       "1  https://www.besoccer.com/match/tottenham-hotsp...    1990      1   \n",
       "2  https://www.besoccer.com/match/southampton-fc/...    1990      1   \n",
       "3  https://www.besoccer.com/match/sheffield-wedne...    1990      1   \n",
       "4  https://www.besoccer.com/match/queens-park-ran...    1990      1   \n",
       "\n",
       "           League  \n",
       "0  premier_league  \n",
       "1  premier_league  \n",
       "2  premier_league  \n",
       "3  premier_league  \n",
       "4  premier_league  "
      ]
     },
     "execution_count": 165,
     "metadata": {},
     "output_type": "execute_result"
    }
   ],
   "source": [
    "premierLeague.head()"
   ]
  },
  {
   "cell_type": "code",
   "execution_count": 166,
   "metadata": {},
   "outputs": [
    {
     "name": "stdout",
     "output_type": "stream",
     "text": [
      "<class 'pandas.core.frame.DataFrame'>\n",
      "Int64Index: 12417 entries, 0 to 308\n",
      "Data columns (total 7 columns):\n",
      " #   Column     Non-Null Count  Dtype \n",
      "---  ------     --------------  ----- \n",
      " 0   Home_Team  12417 non-null  object\n",
      " 1   Away_Team  12417 non-null  object\n",
      " 2   Result     12417 non-null  object\n",
      " 3   Link       12417 non-null  object\n",
      " 4   Season     12417 non-null  int64 \n",
      " 5   Round      12417 non-null  int64 \n",
      " 6   League     12417 non-null  object\n",
      "dtypes: int64(2), object(5)\n",
      "memory usage: 776.1+ KB\n"
     ]
    }
   ],
   "source": [
    "premierLeague.info()"
   ]
  },
  {
   "cell_type": "code",
   "execution_count": 167,
   "metadata": {},
   "outputs": [
    {
     "data": {
      "text/plain": [
       "52"
      ]
     },
     "execution_count": 167,
     "metadata": {},
     "output_type": "execute_result"
    }
   ],
   "source": [
    "#number of teams\n",
    "premierLeague.Home_Team.nunique()"
   ]
  },
  {
   "cell_type": "code",
   "execution_count": 137,
   "metadata": {},
   "outputs": [],
   "source": [
    "def parseResult(result):\n",
    "    try:\n",
    "        values = result.split(\"-\")\n",
    "        first = int(values[0])\n",
    "        second = int(values[1])\n",
    "        if first > second:\n",
    "            return \"Home\"\n",
    "        elif first < second:\n",
    "            return \"Away\"\n",
    "        else:\n",
    "            return \"Same\"\n",
    "    except:\n",
    "        return \"\"\n",
    "    pass\n",
    "    "
   ]
  },
  {
   "cell_type": "code",
   "execution_count": 169,
   "metadata": {},
   "outputs": [],
   "source": [
    "#Add a new feature to describe the outcome of a match.Home when Home_Team is the winner and Away when Away_Team is the winner\n",
    "premierLeague['outcome'] = premierLeague['Result'].apply(lambda x: parseResult(x))"
   ]
  },
  {
   "cell_type": "code",
   "execution_count": 170,
   "metadata": {},
   "outputs": [
    {
     "data": {
      "text/html": [
       "<div>\n",
       "<style scoped>\n",
       "    .dataframe tbody tr th:only-of-type {\n",
       "        vertical-align: middle;\n",
       "    }\n",
       "\n",
       "    .dataframe tbody tr th {\n",
       "        vertical-align: top;\n",
       "    }\n",
       "\n",
       "    .dataframe thead th {\n",
       "        text-align: right;\n",
       "    }\n",
       "</style>\n",
       "<table border=\"1\" class=\"dataframe\">\n",
       "  <thead>\n",
       "    <tr style=\"text-align: right;\">\n",
       "      <th></th>\n",
       "      <th>Home_Team</th>\n",
       "      <th>Away_Team</th>\n",
       "      <th>Result</th>\n",
       "      <th>Link</th>\n",
       "      <th>Season</th>\n",
       "      <th>Round</th>\n",
       "      <th>League</th>\n",
       "      <th>outcome</th>\n",
       "    </tr>\n",
       "  </thead>\n",
       "  <tbody>\n",
       "    <tr>\n",
       "      <th>0</th>\n",
       "      <td>Charlton Athletic</td>\n",
       "      <td>Derby County</td>\n",
       "      <td>0-0</td>\n",
       "      <td>https://www.besoccer.com/match/charlton-athlet...</td>\n",
       "      <td>1990</td>\n",
       "      <td>1</td>\n",
       "      <td>premier_league</td>\n",
       "      <td>Same</td>\n",
       "    </tr>\n",
       "    <tr>\n",
       "      <th>1</th>\n",
       "      <td>Tottenham Hotspur</td>\n",
       "      <td>Luton Town</td>\n",
       "      <td>2-1</td>\n",
       "      <td>https://www.besoccer.com/match/tottenham-hotsp...</td>\n",
       "      <td>1990</td>\n",
       "      <td>1</td>\n",
       "      <td>premier_league</td>\n",
       "      <td>Home</td>\n",
       "    </tr>\n",
       "    <tr>\n",
       "      <th>2</th>\n",
       "      <td>Southampton</td>\n",
       "      <td>Millwall</td>\n",
       "      <td>1-2</td>\n",
       "      <td>https://www.besoccer.com/match/southampton-fc/...</td>\n",
       "      <td>1990</td>\n",
       "      <td>1</td>\n",
       "      <td>premier_league</td>\n",
       "      <td>Away</td>\n",
       "    </tr>\n",
       "    <tr>\n",
       "      <th>3</th>\n",
       "      <td>Sheffield Wednesday</td>\n",
       "      <td>Norwich City</td>\n",
       "      <td>0-2</td>\n",
       "      <td>https://www.besoccer.com/match/sheffield-wedne...</td>\n",
       "      <td>1990</td>\n",
       "      <td>1</td>\n",
       "      <td>premier_league</td>\n",
       "      <td>Away</td>\n",
       "    </tr>\n",
       "    <tr>\n",
       "      <th>4</th>\n",
       "      <td>Queens Park Rangers</td>\n",
       "      <td>Crystal Palace</td>\n",
       "      <td>2-0</td>\n",
       "      <td>https://www.besoccer.com/match/queens-park-ran...</td>\n",
       "      <td>1990</td>\n",
       "      <td>1</td>\n",
       "      <td>premier_league</td>\n",
       "      <td>Home</td>\n",
       "    </tr>\n",
       "    <tr>\n",
       "      <th>...</th>\n",
       "      <td>...</td>\n",
       "      <td>...</td>\n",
       "      <td>...</td>\n",
       "      <td>...</td>\n",
       "      <td>...</td>\n",
       "      <td>...</td>\n",
       "      <td>...</td>\n",
       "      <td>...</td>\n",
       "    </tr>\n",
       "    <tr>\n",
       "      <th>304</th>\n",
       "      <td>West Ham</td>\n",
       "      <td>Leicester</td>\n",
       "      <td>3-2</td>\n",
       "      <td>https://www.besoccer.com/match/west-ham-united...</td>\n",
       "      <td>2021</td>\n",
       "      <td>31</td>\n",
       "      <td>premier_league</td>\n",
       "      <td>Home</td>\n",
       "    </tr>\n",
       "    <tr>\n",
       "      <th>305</th>\n",
       "      <td>Tottenham Hotspur</td>\n",
       "      <td>Man. Utd</td>\n",
       "      <td>1-3</td>\n",
       "      <td>https://www.besoccer.com/match/tottenham-hotsp...</td>\n",
       "      <td>2021</td>\n",
       "      <td>31</td>\n",
       "      <td>premier_league</td>\n",
       "      <td>Away</td>\n",
       "    </tr>\n",
       "    <tr>\n",
       "      <th>306</th>\n",
       "      <td>Sheffield United</td>\n",
       "      <td>Arsenal</td>\n",
       "      <td>0-3</td>\n",
       "      <td>https://www.besoccer.com/match/sheffield-unite...</td>\n",
       "      <td>2021</td>\n",
       "      <td>31</td>\n",
       "      <td>premier_league</td>\n",
       "      <td>Away</td>\n",
       "    </tr>\n",
       "    <tr>\n",
       "      <th>307</th>\n",
       "      <td>West Bromwich Albion</td>\n",
       "      <td>Southampton</td>\n",
       "      <td>3-0</td>\n",
       "      <td>https://www.besoccer.com/match/west-bromwich/s...</td>\n",
       "      <td>2021</td>\n",
       "      <td>31</td>\n",
       "      <td>premier_league</td>\n",
       "      <td>Home</td>\n",
       "    </tr>\n",
       "    <tr>\n",
       "      <th>308</th>\n",
       "      <td>Brighton &amp; Hove Albion</td>\n",
       "      <td>Everton</td>\n",
       "      <td>0-0</td>\n",
       "      <td>https://www.besoccer.com/match/brighton-amp-ho...</td>\n",
       "      <td>2021</td>\n",
       "      <td>31</td>\n",
       "      <td>premier_league</td>\n",
       "      <td>Same</td>\n",
       "    </tr>\n",
       "  </tbody>\n",
       "</table>\n",
       "<p>12417 rows × 8 columns</p>\n",
       "</div>"
      ],
      "text/plain": [
       "                  Home_Team       Away_Team Result  \\\n",
       "0         Charlton Athletic    Derby County    0-0   \n",
       "1         Tottenham Hotspur      Luton Town    2-1   \n",
       "2               Southampton        Millwall    1-2   \n",
       "3       Sheffield Wednesday    Norwich City    0-2   \n",
       "4       Queens Park Rangers  Crystal Palace    2-0   \n",
       "..                      ...             ...    ...   \n",
       "304                West Ham       Leicester    3-2   \n",
       "305       Tottenham Hotspur        Man. Utd    1-3   \n",
       "306        Sheffield United         Arsenal    0-3   \n",
       "307    West Bromwich Albion     Southampton    3-0   \n",
       "308  Brighton & Hove Albion         Everton    0-0   \n",
       "\n",
       "                                                  Link  Season  Round  \\\n",
       "0    https://www.besoccer.com/match/charlton-athlet...    1990      1   \n",
       "1    https://www.besoccer.com/match/tottenham-hotsp...    1990      1   \n",
       "2    https://www.besoccer.com/match/southampton-fc/...    1990      1   \n",
       "3    https://www.besoccer.com/match/sheffield-wedne...    1990      1   \n",
       "4    https://www.besoccer.com/match/queens-park-ran...    1990      1   \n",
       "..                                                 ...     ...    ...   \n",
       "304  https://www.besoccer.com/match/west-ham-united...    2021     31   \n",
       "305  https://www.besoccer.com/match/tottenham-hotsp...    2021     31   \n",
       "306  https://www.besoccer.com/match/sheffield-unite...    2021     31   \n",
       "307  https://www.besoccer.com/match/west-bromwich/s...    2021     31   \n",
       "308  https://www.besoccer.com/match/brighton-amp-ho...    2021     31   \n",
       "\n",
       "             League outcome  \n",
       "0    premier_league    Same  \n",
       "1    premier_league    Home  \n",
       "2    premier_league    Away  \n",
       "3    premier_league    Away  \n",
       "4    premier_league    Home  \n",
       "..              ...     ...  \n",
       "304  premier_league    Home  \n",
       "305  premier_league    Away  \n",
       "306  premier_league    Away  \n",
       "307  premier_league    Home  \n",
       "308  premier_league    Same  \n",
       "\n",
       "[12417 rows x 8 columns]"
      ]
     },
     "execution_count": 170,
     "metadata": {},
     "output_type": "execute_result"
    }
   ],
   "source": [
    "premierLeague"
   ]
  },
  {
   "cell_type": "markdown",
   "metadata": {},
   "source": [
    "### Liverpool matches\n",
    "livMatches = premierLeague.query('outcome != \"\" and (Home_Team == \"Liverpool\")')\n",
    "livMatchesAway = premierLeague.query('outcome != \"\" and (Away_Team == \"Liverpool\")')\n",
    "plt.hist(livMatches.outcome)"
   ]
  },
  {
   "cell_type": "code",
   "execution_count": 92,
   "metadata": {},
   "outputs": [],
   "source": [
    "#def normalizeEntropy(entropy,k):\n",
    " #   return entropy/np.log(k)"
   ]
  },
  {
   "cell_type": "code",
   "execution_count": 119,
   "metadata": {},
   "outputs": [
    {
     "data": {
      "text/plain": [
       "0.9722248339550219"
      ]
     },
     "execution_count": 119,
     "metadata": {},
     "output_type": "execute_result"
    }
   ],
   "source": [
    "#normalizeEntropy(entropy(livMatches.groupby('outcome')[\"Result\"].count()),3)"
   ]
  },
  {
   "cell_type": "code",
   "execution_count": 172,
   "metadata": {},
   "outputs": [
    {
     "data": {
      "text/plain": [
       "(array([160.,   0.,   0.,   0.,   0., 252.,   0.,   0.,   0., 200.]),\n",
       " array([0. , 0.2, 0.4, 0.6, 0.8, 1. , 1.2, 1.4, 1.6, 1.8, 2. ]),\n",
       " <a list of 10 Patch objects>)"
      ]
     },
     "execution_count": 172,
     "metadata": {},
     "output_type": "execute_result"
    },
    {
     "data": {
      "image/png": "[encoded data removed]",
      "text/plain": [
       "<Figure size 432x288 with 1 Axes>"
      ]
     },
     "metadata": {
      "needs_background": "light"
     },
     "output_type": "display_data"
    }
   ],
   "source": [
    "plt.hist(livMatchesAway.outcome)"
   ]
  },
  {
   "cell_type": "code",
   "execution_count": null,
   "metadata": {},
   "outputs": [],
   "source": []
  }
 ],
 "metadata": {
  "kernelspec": {
   "display_name": "Python 3",
   "language": "python",
   "name": "python3"
  },
  "language_info": {
   "codemirror_mode": {
    "name": "ipython",
    "version": 3
   },
   "file_extension": ".py",
   "mimetype": "text/x-python",
   "name": "python",
   "nbconvert_exporter": "python",
   "pygments_lexer": "ipython3",
   "version": "3.7.6"
  }
 },
 "nbformat": 4,
 "nbformat_minor": 4
}
