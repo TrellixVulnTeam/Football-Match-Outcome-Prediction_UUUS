{
 "cells": [
  {
   "cell_type": "code",
   "execution_count": 1082,
   "metadata": {},
   "outputs": [],
   "source": [
    "%matplotlib inline\n",
    "import matplotlib.pyplot as plt\n",
    "import numpy as np\n",
    "import pandas as pd\n",
    "import seaborn as sns\n",
    "import os\n",
    "from scipy.stats import entropy\n",
    "import pickle\n",
    "from sklearn.linear_model import LogisticRegression\n",
    "import sklearn.ensemble\n",
    "from sklearn import tree\n",
    "import psycopg2\n",
    "from sqlalchemy import create_engine\n",
    "from numpy import mean\n",
    "from numpy import std\n",
    "from sklearn.datasets import make_classification\n",
    "from sklearn.model_selection import KFold\n",
    "from sklearn.model_selection import cross_val_score\n",
    "import scipy.stats as ss\n",
    "import missingno as msn\n",
    "from sklearn.pipeline import Pipeline\n",
    "from sklearn.compose import ColumnTransformer \n",
    "from sklearn.impute import SimpleImputer"
   ]
  },
  {
   "cell_type": "code",
   "execution_count": 1027,
   "metadata": {},
   "outputs": [],
   "source": [
    "paths = [\"Football-Dataset/\" + d for d in os.listdir(\"Football-Dataset/\")]\n",
    "files =[]\n",
    "for path in paths:\n",
    "    files = files + [path +\"/\"+ f for f in os.listdir(path) if f.endswith('.csv')]\n",
    "matches = pd.concat(map(pd.read_csv, files))\n"
   ]
  },
  {
   "cell_type": "code",
   "execution_count": 1028,
   "metadata": {},
   "outputs": [
    {
     "data": {
      "text/html": [
       "<div>\n",
       "<style scoped>\n",
       "    .dataframe tbody tr th:only-of-type {\n",
       "        vertical-align: middle;\n",
       "    }\n",
       "\n",
       "    .dataframe tbody tr th {\n",
       "        vertical-align: top;\n",
       "    }\n",
       "\n",
       "    .dataframe thead th {\n",
       "        text-align: right;\n",
       "    }\n",
       "</style>\n",
       "<table border=\"1\" class=\"dataframe\">\n",
       "  <thead>\n",
       "    <tr style=\"text-align: right;\">\n",
       "      <th></th>\n",
       "      <th>Home_Team</th>\n",
       "      <th>Away_Team</th>\n",
       "      <th>Result</th>\n",
       "      <th>Link</th>\n",
       "      <th>Season</th>\n",
       "      <th>Round</th>\n",
       "      <th>League</th>\n",
       "    </tr>\n",
       "  </thead>\n",
       "  <tbody>\n",
       "    <tr>\n",
       "      <th>0</th>\n",
       "      <td>Saarbrücken</td>\n",
       "      <td>Stuttgarter Kickers</td>\n",
       "      <td>1-0</td>\n",
       "      <td>https://www.besoccer.com/match/saarbrucken/stu...</td>\n",
       "      <td>1990</td>\n",
       "      <td>1</td>\n",
       "      <td>2_liga</td>\n",
       "    </tr>\n",
       "    <tr>\n",
       "      <th>1</th>\n",
       "      <td>SC Freiburg</td>\n",
       "      <td>Unterhaching</td>\n",
       "      <td>2-3</td>\n",
       "      <td>https://www.besoccer.com/match/sc-freiburg/unt...</td>\n",
       "      <td>1990</td>\n",
       "      <td>1</td>\n",
       "      <td>2_liga</td>\n",
       "    </tr>\n",
       "    <tr>\n",
       "      <th>2</th>\n",
       "      <td>VfL Osnabrück</td>\n",
       "      <td>Meppen</td>\n",
       "      <td>1-1</td>\n",
       "      <td>https://www.besoccer.com/match/vfl-osnabruck/m...</td>\n",
       "      <td>1990</td>\n",
       "      <td>1</td>\n",
       "      <td>2_liga</td>\n",
       "    </tr>\n",
       "    <tr>\n",
       "      <th>3</th>\n",
       "      <td>RW Essen</td>\n",
       "      <td>Schalke 04</td>\n",
       "      <td>0-0</td>\n",
       "      <td>https://www.besoccer.com/match/rot-weiss-essen...</td>\n",
       "      <td>1990</td>\n",
       "      <td>1</td>\n",
       "      <td>2_liga</td>\n",
       "    </tr>\n",
       "    <tr>\n",
       "      <th>4</th>\n",
       "      <td>Alemannia Aachen</td>\n",
       "      <td>MSV Duisburg</td>\n",
       "      <td>1-2</td>\n",
       "      <td>https://www.besoccer.com/match/alemannia-aache...</td>\n",
       "      <td>1990</td>\n",
       "      <td>1</td>\n",
       "      <td>2_liga</td>\n",
       "    </tr>\n",
       "  </tbody>\n",
       "</table>\n",
       "</div>"
      ],
      "text/plain": [
       "          Home_Team            Away_Team Result  \\\n",
       "0       Saarbrücken  Stuttgarter Kickers    1-0   \n",
       "1       SC Freiburg         Unterhaching    2-3   \n",
       "2     VfL Osnabrück               Meppen    1-1   \n",
       "3          RW Essen           Schalke 04    0-0   \n",
       "4  Alemannia Aachen         MSV Duisburg    1-2   \n",
       "\n",
       "                                                Link Season Round  League  \n",
       "0  https://www.besoccer.com/match/saarbrucken/stu...   1990     1  2_liga  \n",
       "1  https://www.besoccer.com/match/sc-freiburg/unt...   1990     1  2_liga  \n",
       "2  https://www.besoccer.com/match/vfl-osnabruck/m...   1990     1  2_liga  \n",
       "3  https://www.besoccer.com/match/rot-weiss-essen...   1990     1  2_liga  \n",
       "4  https://www.besoccer.com/match/alemannia-aache...   1990     1  2_liga  "
      ]
     },
     "execution_count": 1028,
     "metadata": {},
     "output_type": "execute_result"
    }
   ],
   "source": [
    "matches.head()"
   ]
  },
  {
   "cell_type": "code",
   "execution_count": 1029,
   "metadata": {},
   "outputs": [
    {
     "name": "stdout",
     "output_type": "stream",
     "text": [
      "<class 'pandas.core.frame.DataFrame'>\n",
      "Int64Index: 146498 entries, 0 to 327\n",
      "Data columns (total 7 columns):\n",
      " #   Column     Non-Null Count   Dtype \n",
      "---  ------     --------------   ----- \n",
      " 0   Home_Team  146498 non-null  object\n",
      " 1   Away_Team  146498 non-null  object\n",
      " 2   Result     146498 non-null  object\n",
      " 3   Link       146498 non-null  object\n",
      " 4   Season     146498 non-null  object\n",
      " 5   Round      146498 non-null  object\n",
      " 6   League     146498 non-null  object\n",
      "dtypes: object(7)\n",
      "memory usage: 8.9+ MB\n"
     ]
    }
   ],
   "source": [
    "matches.info()"
   ]
  },
  {
   "cell_type": "code",
   "execution_count": 1030,
   "metadata": {},
   "outputs": [
    {
     "data": {
      "text/plain": [
       "League\n",
       "2_liga              83\n",
       "bundesliga          46\n",
       "championship        63\n",
       "eerste_divisie      35\n",
       "eredivisie          32\n",
       "ligue_1             46\n",
       "ligue_2             75\n",
       "premier_league      52\n",
       "primeira_liga       43\n",
       "primera_division    51\n",
       "segunda_division    96\n",
       "segunda_liga        54\n",
       "serie_a             50\n",
       "serie_b             87\n",
       "Name: Home_Team, dtype: int64"
      ]
     },
     "execution_count": 1030,
     "metadata": {},
     "output_type": "execute_result"
    }
   ],
   "source": [
    "#number of teams\n",
    "nTeams = matches.groupby(\"League\").Home_Team.nunique()\n",
    "nTeams"
   ]
  },
  {
   "cell_type": "code",
   "execution_count": 1031,
   "metadata": {},
   "outputs": [],
   "source": [
    "def parseResult(result):\n",
    "    try:\n",
    "        values = result.split(\"-\")\n",
    "        first = int(values[0])\n",
    "        second = int(values[1])\n",
    "        if first > second:\n",
    "            return 0\n",
    "        elif first < second:\n",
    "            return 1\n",
    "        else:\n",
    "            return 2\n",
    "    except:\n",
    "        return \"\"\n",
    "    pass\n",
    "    "
   ]
  },
  {
   "cell_type": "code",
   "execution_count": 1032,
   "metadata": {},
   "outputs": [
    {
     "data": {
      "text/html": [
       "<div>\n",
       "<style scoped>\n",
       "    .dataframe tbody tr th:only-of-type {\n",
       "        vertical-align: middle;\n",
       "    }\n",
       "\n",
       "    .dataframe tbody tr th {\n",
       "        vertical-align: top;\n",
       "    }\n",
       "\n",
       "    .dataframe thead th {\n",
       "        text-align: right;\n",
       "    }\n",
       "</style>\n",
       "<table border=\"1\" class=\"dataframe\">\n",
       "  <thead>\n",
       "    <tr style=\"text-align: right;\">\n",
       "      <th></th>\n",
       "      <th>Home_Team</th>\n",
       "      <th>Away_Team</th>\n",
       "      <th>Result</th>\n",
       "      <th>Link</th>\n",
       "      <th>Season</th>\n",
       "      <th>Round</th>\n",
       "      <th>League</th>\n",
       "      <th>OutCome</th>\n",
       "    </tr>\n",
       "  </thead>\n",
       "  <tbody>\n",
       "    <tr>\n",
       "      <th>0</th>\n",
       "      <td>Saarbrücken</td>\n",
       "      <td>Stuttgarter Kickers</td>\n",
       "      <td>1-0</td>\n",
       "      <td>https://www.besoccer.com/match/saarbrucken/stu...</td>\n",
       "      <td>1990</td>\n",
       "      <td>1</td>\n",
       "      <td>2_liga</td>\n",
       "      <td>0</td>\n",
       "    </tr>\n",
       "    <tr>\n",
       "      <th>1</th>\n",
       "      <td>SC Freiburg</td>\n",
       "      <td>Unterhaching</td>\n",
       "      <td>2-3</td>\n",
       "      <td>https://www.besoccer.com/match/sc-freiburg/unt...</td>\n",
       "      <td>1990</td>\n",
       "      <td>1</td>\n",
       "      <td>2_liga</td>\n",
       "      <td>1</td>\n",
       "    </tr>\n",
       "    <tr>\n",
       "      <th>2</th>\n",
       "      <td>VfL Osnabrück</td>\n",
       "      <td>Meppen</td>\n",
       "      <td>1-1</td>\n",
       "      <td>https://www.besoccer.com/match/vfl-osnabruck/m...</td>\n",
       "      <td>1990</td>\n",
       "      <td>1</td>\n",
       "      <td>2_liga</td>\n",
       "      <td>2</td>\n",
       "    </tr>\n",
       "    <tr>\n",
       "      <th>3</th>\n",
       "      <td>RW Essen</td>\n",
       "      <td>Schalke 04</td>\n",
       "      <td>0-0</td>\n",
       "      <td>https://www.besoccer.com/match/rot-weiss-essen...</td>\n",
       "      <td>1990</td>\n",
       "      <td>1</td>\n",
       "      <td>2_liga</td>\n",
       "      <td>2</td>\n",
       "    </tr>\n",
       "    <tr>\n",
       "      <th>4</th>\n",
       "      <td>Alemannia Aachen</td>\n",
       "      <td>MSV Duisburg</td>\n",
       "      <td>1-2</td>\n",
       "      <td>https://www.besoccer.com/match/alemannia-aache...</td>\n",
       "      <td>1990</td>\n",
       "      <td>1</td>\n",
       "      <td>2_liga</td>\n",
       "      <td>1</td>\n",
       "    </tr>\n",
       "    <tr>\n",
       "      <th>...</th>\n",
       "      <td>...</td>\n",
       "      <td>...</td>\n",
       "      <td>...</td>\n",
       "      <td>...</td>\n",
       "      <td>...</td>\n",
       "      <td>...</td>\n",
       "      <td>...</td>\n",
       "      <td>...</td>\n",
       "    </tr>\n",
       "    <tr>\n",
       "      <th>323</th>\n",
       "      <td>Lecce</td>\n",
       "      <td>SPAL</td>\n",
       "      <td>1-2</td>\n",
       "      <td>https://www.besoccer.com/match/lecce/spal-1907...</td>\n",
       "      <td>2021</td>\n",
       "      <td>33</td>\n",
       "      <td>serie_b</td>\n",
       "      <td>1</td>\n",
       "    </tr>\n",
       "    <tr>\n",
       "      <th>324</th>\n",
       "      <td>Frosinone</td>\n",
       "      <td>Cittadella</td>\n",
       "      <td>1-1</td>\n",
       "      <td>https://www.besoccer.com/match/frosinone-calci...</td>\n",
       "      <td>2021</td>\n",
       "      <td>33</td>\n",
       "      <td>serie_b</td>\n",
       "      <td>2</td>\n",
       "    </tr>\n",
       "    <tr>\n",
       "      <th>325</th>\n",
       "      <td>Reggina</td>\n",
       "      <td>Vicenza</td>\n",
       "      <td>3-0</td>\n",
       "      <td>https://www.besoccer.com/match/reggina/vicenza...</td>\n",
       "      <td>2021</td>\n",
       "      <td>33</td>\n",
       "      <td>serie_b</td>\n",
       "      <td>0</td>\n",
       "    </tr>\n",
       "    <tr>\n",
       "      <th>326</th>\n",
       "      <td>Venezia</td>\n",
       "      <td>Nuova Cosenza</td>\n",
       "      <td>3-0</td>\n",
       "      <td>https://www.besoccer.com/match/venezia/nuova-c...</td>\n",
       "      <td>2021</td>\n",
       "      <td>33</td>\n",
       "      <td>serie_b</td>\n",
       "      <td>0</td>\n",
       "    </tr>\n",
       "    <tr>\n",
       "      <th>327</th>\n",
       "      <td>Chievo</td>\n",
       "      <td>Pisa</td>\n",
       "      <td>2-0</td>\n",
       "      <td>https://www.besoccer.com/match/chievo/pisa-cal...</td>\n",
       "      <td>2021</td>\n",
       "      <td>33</td>\n",
       "      <td>serie_b</td>\n",
       "      <td>0</td>\n",
       "    </tr>\n",
       "  </tbody>\n",
       "</table>\n",
       "<p>146492 rows × 8 columns</p>\n",
       "</div>"
      ],
      "text/plain": [
       "            Home_Team            Away_Team Result  \\\n",
       "0         Saarbrücken  Stuttgarter Kickers    1-0   \n",
       "1         SC Freiburg         Unterhaching    2-3   \n",
       "2       VfL Osnabrück               Meppen    1-1   \n",
       "3            RW Essen           Schalke 04    0-0   \n",
       "4    Alemannia Aachen         MSV Duisburg    1-2   \n",
       "..                ...                  ...    ...   \n",
       "323             Lecce                 SPAL    1-2   \n",
       "324         Frosinone           Cittadella    1-1   \n",
       "325           Reggina             Vicenza     3-0   \n",
       "326           Venezia        Nuova Cosenza    3-0   \n",
       "327            Chievo                 Pisa    2-0   \n",
       "\n",
       "                                                  Link Season Round   League  \\\n",
       "0    https://www.besoccer.com/match/saarbrucken/stu...   1990     1   2_liga   \n",
       "1    https://www.besoccer.com/match/sc-freiburg/unt...   1990     1   2_liga   \n",
       "2    https://www.besoccer.com/match/vfl-osnabruck/m...   1990     1   2_liga   \n",
       "3    https://www.besoccer.com/match/rot-weiss-essen...   1990     1   2_liga   \n",
       "4    https://www.besoccer.com/match/alemannia-aache...   1990     1   2_liga   \n",
       "..                                                 ...    ...   ...      ...   \n",
       "323  https://www.besoccer.com/match/lecce/spal-1907...   2021    33  serie_b   \n",
       "324  https://www.besoccer.com/match/frosinone-calci...   2021    33  serie_b   \n",
       "325  https://www.besoccer.com/match/reggina/vicenza...   2021    33  serie_b   \n",
       "326  https://www.besoccer.com/match/venezia/nuova-c...   2021    33  serie_b   \n",
       "327  https://www.besoccer.com/match/chievo/pisa-cal...   2021    33  serie_b   \n",
       "\n",
       "    OutCome  \n",
       "0         0  \n",
       "1         1  \n",
       "2         2  \n",
       "3         2  \n",
       "4         1  \n",
       "..      ...  \n",
       "323       1  \n",
       "324       2  \n",
       "325       0  \n",
       "326       0  \n",
       "327       0  \n",
       "\n",
       "[146492 rows x 8 columns]"
      ]
     },
     "execution_count": 1032,
     "metadata": {},
     "output_type": "execute_result"
    }
   ],
   "source": [
    "#Add a new feature to describe the outcome of a match.Home when Home_Team is the winner and Away when Away_Team is the winner\n",
    "matches['OutCome'] = matches['Result'].apply(lambda x: parseResult(x))\n",
    "matches = matches.query('OutCome != \"\"') \n",
    "matches"
   ]
  },
  {
   "cell_type": "code",
   "execution_count": 1033,
   "metadata": {},
   "outputs": [
    {
     "data": {
      "text/plain": [
       "(array([0.4614723 , 0.        , 0.        , 0.        , 0.        ,\n",
       "        0.25579554, 0.        , 0.        , 0.        , 0.28273216]),\n",
       " array([0. , 0.2, 0.4, 0.6, 0.8, 1. , 1.2, 1.4, 1.6, 1.8, 2. ]),\n",
       " <BarContainer object of 10 artists>)"
      ]
     },
     "execution_count": 1033,
     "metadata": {},
     "output_type": "execute_result"
    },
    {
     "data": {
      "image/png": "[encoded data removed]",
      "text/plain": [
       "<Figure size 432x288 with 1 Axes>"
      ]
     },
     "metadata": {
      "needs_background": "light"
     },
     "output_type": "display_data"
    }
   ],
   "source": [
    "plt.hist(sorted(matches.OutCome.astype(str)),weights=np.ones(len(matches.OutCome)) / len(matches.OutCome))"
   ]
  },
  {
   "cell_type": "markdown",
   "metadata": {},
   "source": [
    "The barplot above shows that the fact to play at Home affects the result.\n",
    "Infact the number of win matches is higher than the loss matches.\n",
    "That means it is an important feature to consider if we want to predict the final outcome"
   ]
  },
  {
   "cell_type": "code",
   "execution_count": 1034,
   "metadata": {},
   "outputs": [
    {
     "data": {
      "text/plain": [
       "Text(0.5, 0.98, 'Result by Season')"
      ]
     },
     "execution_count": 1034,
     "metadata": {},
     "output_type": "execute_result"
    },
    {
     "data": {
      "image/png": "[encoded data removed]",
      "text/plain": [
       "<Figure size 3000x3000 with 35 Axes>"
      ]
     },
     "metadata": {
      "needs_background": "light"
     },
     "output_type": "display_data"
    }
   ],
   "source": [
    "fig, axes = plt.subplots(5, 7, figsize=(30,30), dpi=100, sharex=True, sharey=True)\n",
    "for i, (ax, Season) in enumerate(zip(axes.flatten(), matches.Season.unique())):\n",
    "    x = matches.loc[matches.Season==Season, 'OutCome']\n",
    "    ax.hist(x, alpha=0.5, bins=100, density=True, stacked=True,label=str(Season))\n",
    "    ax.set_title(Season)\n",
    "plt.suptitle('Result by Season', size=16)"
   ]
  },
  {
   "cell_type": "code",
   "execution_count": 1035,
   "metadata": {},
   "outputs": [
    {
     "data": {
      "text/plain": [
       "Text(0.5, 0.98, 'Result by League')"
      ]
     },
     "execution_count": 1035,
     "metadata": {},
     "output_type": "execute_result"
    },
    {
     "data": {
      "image/png": "[encoded data removed]",
      "text/plain": [
       "<Figure size 3000x3000 with 35 Axes>"
      ]
     },
     "metadata": {
      "needs_background": "light"
     },
     "output_type": "display_data"
    }
   ],
   "source": [
    "fig, axes = plt.subplots(5, 7, figsize=(30,30), dpi=100, sharex=True, sharey=True)\n",
    "for i, (ax, League) in enumerate(zip(axes.flatten(), matches.League.unique())):\n",
    "    x = matches.loc[matches.League==League, 'OutCome']\n",
    "    ax.hist(x, alpha=0.5, bins=100, density=True, stacked=True,label=str(League))\n",
    "    ax.set_title(League)\n",
    "plt.suptitle('Result by League', size=16)"
   ]
  },
  {
   "cell_type": "markdown",
   "metadata": {},
   "source": [
    "As the plot shows above,the distribuition of the result change a bit by year in particular it can be a difference between the away wins and the draws.\n",
    "As the goal is to predict the outcome of the next matches it will be a relevant feature."
   ]
  },
  {
   "cell_type": "code",
   "execution_count": 1036,
   "metadata": {},
   "outputs": [],
   "source": [
    "tm = pd.read_csv(\"DataToAdd/Match_Info.csv\")"
   ]
  },
  {
   "cell_type": "code",
   "execution_count": 1037,
   "metadata": {},
   "outputs": [],
   "source": [
    "ti = pd.read_csv(\"DataToAdd/Team_Info.csv\")"
   ]
  },
  {
   "cell_type": "code",
   "execution_count": 1038,
   "metadata": {},
   "outputs": [],
   "source": [
    "Elo = pickle.load(open('DataToAdd/elo_dict.pkl', 'rb'))"
   ]
  },
  {
   "cell_type": "code",
   "execution_count": 1039,
   "metadata": {},
   "outputs": [],
   "source": [
    "matches[\"ELO_Home\"] = matches[\"Link\"].apply(lambda x:Elo[x][\"Elo_home\"])\n",
    "matches[\"ELO_Away\"] = matches[\"Link\"].apply(lambda x:Elo[x][\"Elo_away\"])"
   ]
  },
  {
   "cell_type": "code",
   "execution_count": 1040,
   "metadata": {},
   "outputs": [],
   "source": [
    "matches[\"Link\"] = matches[\"Link\"].apply(lambda x: x.replace(\"https://www.besoccer.com\",\"\"))\n",
    "matches[\"Link\"] = matches[\"Link\"].apply(lambda x:x[0:len(x)-4])"
   ]
  },
  {
   "cell_type": "code",
   "execution_count": 1041,
   "metadata": {},
   "outputs": [],
   "source": [
    "matches = matches.merge(tm, how='left', on='Link')\n",
    "ti=ti.rename(columns={\"Team\":\"Home_Team\"})\n",
    "matches = matches.merge(ti, how='left', on='Home_Team')"
   ]
  },
  {
   "cell_type": "code",
   "execution_count": 1042,
   "metadata": {},
   "outputs": [],
   "source": [
    "matches.drop('City',inplace=True,axis = 1)\n",
    "matches.drop('Link',inplace=True,axis = 1)\n",
    "matches.drop('Round',inplace=True,axis = 1)\n",
    "matches.drop('Country',inplace=True,axis = 1)\n",
    "matches.drop('Referee',inplace=True,axis = 1)\n",
    "matches.drop('Stadium',inplace=True,axis = 1)\n",
    "matches.drop('Date_New',inplace=True,axis = 1)"
   ]
  },
  {
   "cell_type": "code",
   "execution_count": 1043,
   "metadata": {},
   "outputs": [],
   "source": [
    "# get the data for different groups\n",
    "matches['Capacity'] = matches['Capacity'].astype(str)\n",
    "matches['Capacity'] = matches['Capacity'].apply(lambda x: x.replace(\",\",\"\"))\n",
    "matches['Capacity'] = matches['Capacity'].astype(float)\n",
    "matches['Capacity'] = matches['Capacity'].fillna(matches['Capacity'].median())"
   ]
  },
  {
   "cell_type": "code",
   "execution_count": 1044,
   "metadata": {},
   "outputs": [
    {
     "name": "stdout",
     "output_type": "stream",
     "text": [
      "<class 'pandas.core.frame.DataFrame'>\n",
      "Int64Index: 146492 entries, 0 to 146491\n",
      "Data columns (total 14 columns):\n",
      " #   Column       Non-Null Count   Dtype  \n",
      "---  ------       --------------   -----  \n",
      " 0   Home_Team    146492 non-null  object \n",
      " 1   Away_Team    146492 non-null  object \n",
      " 2   Result       146492 non-null  object \n",
      " 3   Season       146492 non-null  object \n",
      " 4   League       146492 non-null  object \n",
      " 5   OutCome      146492 non-null  object \n",
      " 6   ELO_Home     134869 non-null  float64\n",
      " 7   ELO_Away     134869 non-null  float64\n",
      " 8   Home_Yellow  42188 non-null   float64\n",
      " 9   Home_Red     42188 non-null   float64\n",
      " 10  Away_Yellow  42188 non-null   float64\n",
      " 11  Away_Red     42188 non-null   float64\n",
      " 12  Capacity     146492 non-null  float64\n",
      " 13  Pitch        131851 non-null  object \n",
      "dtypes: float64(7), object(7)\n",
      "memory usage: 16.8+ MB\n"
     ]
    }
   ],
   "source": [
    "matches.info()"
   ]
  },
  {
   "cell_type": "code",
   "execution_count": 1081,
   "metadata": {},
   "outputs": [
    {
     "data": {
      "text/plain": [
       "<AxesSubplot:>"
      ]
     },
     "execution_count": 1081,
     "metadata": {},
     "output_type": "execute_result"
    },
    {
     "data": {
      "image/png": "[encoded data removed]",
      "text/plain": [
       "<Figure size 1800x720 with 2 Axes>"
      ]
     },
     "metadata": {
      "needs_background": "light"
     },
     "output_type": "display_data"
    }
   ],
   "source": [
    "msn.matrix(matches)"
   ]
  },
  {
   "cell_type": "code",
   "execution_count": 1075,
   "metadata": {},
   "outputs": [
    {
     "data": {
      "image/png": "[encoded data removed]",
      "text/plain": [
       "<Figure size 720x576 with 1 Axes>"
      ]
     },
     "metadata": {
      "needs_background": "light"
     },
     "output_type": "display_data"
    }
   ],
   "source": [
    "matches = matches[matches['ELO_Home'].notna()]\n",
    "matches = matches[matches['ELO_Away'].notna()]\n",
    "# plot the figure\n",
    "plt.figure(figsize=(10, 8))\n",
    "sns.boxplot(x='OutCome',\n",
    "            y='Capacity',\n",
    "            data=matches,\n",
    "            showmeans=True)\n",
    "plt.title(\"Multiple Box Plot\", fontsize=16)\n",
    "plt.xlabel(\"OutCome\", fontsize=14)\n",
    "plt.ylabel(\"Capacity\", fontsize=14)\n",
    "plt.savefig(\"box_mat6\")\n",
    "plt.show()\n"
   ]
  },
  {
   "cell_type": "markdown",
   "metadata": {},
   "source": [
    "As the boxplots show above Result is not indipendent from the Capacity.\n",
    "The mean is not equal in the different groups and that means that the capacity can affect the result that we want to predict."
   ]
  },
  {
   "cell_type": "code",
   "execution_count": 1047,
   "metadata": {},
   "outputs": [
    {
     "data": {
      "text/plain": [
       "array(['grass', 'césped artificial', 'airfibr ', 'artificial'],\n",
       "      dtype=object)"
      ]
     },
     "execution_count": 1047,
     "metadata": {},
     "output_type": "execute_result"
    }
   ],
   "source": [
    "matches.Pitch.fillna(matches.Pitch.mode()[0], inplace=True)\n",
    "matches.Pitch = matches.Pitch.str.lower()\n",
    "matches.Pitch = matches.Pitch.replace(['césped'],'natural')\n",
    "matches.Pitch = matches.Pitch.replace(['cesped natural'],'natural')\n",
    "matches.Pitch = matches.Pitch.replace(['césped natural'],'natural')\n",
    "matches.Pitch = matches.Pitch.replace(['cesped real'],'natural')\n",
    "matches.Pitch = matches.Pitch.replace(['natural'],'grass')\n",
    "matches.Pitch = matches.Pitch.replace(['natural grass'],'grass')\n",
    "\n",
    "matches.Pitch.unique()"
   ]
  },
  {
   "cell_type": "code",
   "execution_count": 1048,
   "metadata": {},
   "outputs": [
    {
     "data": {
      "text/plain": [
       "(array([2.56669306e-03, 0.00000000e+00, 0.00000000e+00, 2.86705076e-04,\n",
       "        0.00000000e+00, 0.00000000e+00, 3.16126478e-02, 0.00000000e+00,\n",
       "        0.00000000e+00, 9.65533954e-01]),\n",
       " array([0. , 0.3, 0.6, 0.9, 1.2, 1.5, 1.8, 2.1, 2.4, 2.7, 3. ]),\n",
       " <BarContainer object of 10 artists>)"
      ]
     },
     "execution_count": 1048,
     "metadata": {},
     "output_type": "execute_result"
    },
    {
     "data": {
      "image/png": "[encoded data removed]",
      "text/plain": [
       "<Figure size 432x288 with 1 Axes>"
      ]
     },
     "metadata": {
      "needs_background": "light"
     },
     "output_type": "display_data"
    }
   ],
   "source": [
    "plt.hist(sorted(matches.Pitch),weights=np.ones(len(matches.Pitch)) / len(matches.Pitch))"
   ]
  },
  {
   "cell_type": "markdown",
   "metadata": {},
   "source": [
    "Pitch is quite unbalanced toward grass so it will not be a relevant feature"
   ]
  },
  {
   "cell_type": "code",
   "execution_count": 1049,
   "metadata": {},
   "outputs": [],
   "source": [
    "matches.drop('Pitch',inplace=True,axis = 1)"
   ]
  },
  {
   "cell_type": "markdown",
   "metadata": {},
   "source": [
    "What about Elo? It is intuitive that the more a team has a higher Elo more likely it will win.\n",
    "Let's create a value DifferenceElo and draw a plot"
   ]
  },
  {
   "cell_type": "code",
   "execution_count": 1078,
   "metadata": {},
   "outputs": [
    {
     "data": {
      "image/png": "[encoded data removed]",
      "text/plain": [
       "<Figure size 720x576 with 1 Axes>"
      ]
     },
     "metadata": {
      "needs_background": "light"
     },
     "output_type": "display_data"
    }
   ],
   "source": [
    "homeWin = matches[matches['OutCome']==0]\n",
    "awayWin = matches[matches['OutCome']==1]\n",
    "draw = matches[matches['OutCome']==2]\n",
    "home = homeWin[\"ELO_Home\"] - homeWin[\"ELO_Away\"]\n",
    "away= awayWin[\"ELO_Home\"] - awayWin[\"ELO_Away\"]\n",
    "draw = draw[\"ELO_Home\"] - draw[\"ELO_Away\"]\n",
    "data = [home,away,draw]\n",
    "labels = ['Home','Away','Draw']\n",
    "# plot the figure\n",
    "plt.figure(figsize=(10, 8))\n",
    "plt.boxplot(data, labels=labels)\n",
    "plt.title(\"Multiple Box Plot\", fontsize=16)\n",
    "plt.xlabel(\"Result\", fontsize=14)\n",
    "plt.ylabel(\"EloDiff\", fontsize=14)\n",
    "plt.savefig(\"box_mat6\")\n",
    "plt.show()"
   ]
  },
  {
   "cell_type": "markdown",
   "metadata": {},
   "source": [
    "The plot show that when a team wins at home has probably a higher ELO and the same when it wins away.\n",
    "The mean for draws is close to 0 as we expected."
   ]
  },
  {
   "cell_type": "code",
   "execution_count": 982,
   "metadata": {},
   "outputs": [],
   "source": [
    "matches['Home_Yellow'] = matches['Home_Yellow'].fillna(0)\n",
    "matches['Home_Red'] = matches['Home_Red'].fillna(0)\n",
    "matches['Away_Yellow'] = matches['Away_Yellow'].fillna(0)\n",
    "matches['Away_Red'] = matches['Away_Red'].fillna(0)"
   ]
  },
  {
   "cell_type": "markdown",
   "metadata": {},
   "source": [
    "MODEL PERFORMING\n",
    "Let's train a simple model in order to see the initial score"
   ]
  },
  {
   "cell_type": "code",
   "execution_count": 983,
   "metadata": {},
   "outputs": [],
   "source": [
    "def create_dummies( df, colname ):\n",
    "    col_dummies = pd.get_dummies(df[colname], prefix=colname)\n",
    "    df = pd.concat([df, col_dummies], axis=1)\n",
    "    df.drop( colname, axis = 1, inplace = True )\n",
    "    return df"
   ]
  },
  {
   "cell_type": "code",
   "execution_count": 984,
   "metadata": {},
   "outputs": [],
   "source": [
    "categorical_features = ['League']\n",
    "matchesFirstModel = matches.copy()\n",
    "matchesFirstModel.drop('Result',inplace=True,axis = 1)\n"
   ]
  },
  {
   "cell_type": "code",
   "execution_count": 985,
   "metadata": {},
   "outputs": [],
   "source": [
    "for c_feature in categorical_features:\n",
    "  matchesFirstModel = create_dummies( matchesFirstModel, c_feature )"
   ]
  },
  {
   "cell_type": "code",
   "execution_count": 986,
   "metadata": {},
   "outputs": [],
   "source": [
    "matchesFirstModel.drop('Home_Team',inplace=True,axis = 1)\n",
    "matchesFirstModel.drop('Away_Team',inplace=True,axis = 1)\n",
    "nCols = matchesFirstModel.shape[1] -1\n",
    "column_to_move = matchesFirstModel.pop(\"OutCome\")\n",
    "matchesFirstModel.insert(nCols, \"OutCome\", column_to_move)"
   ]
  },
  {
   "cell_type": "code",
   "execution_count": 987,
   "metadata": {},
   "outputs": [],
   "source": [
    "from sklearn.model_selection import train_test_split\n",
    "\n",
    "matchesFirstModel = matchesFirstModel.dropna()\n",
    "train_X, test_X, train_y, test_y = train_test_split( matchesFirstModel.iloc[:, 0:nCols],\n",
    "                                                  matchesFirstModel['OutCome'],\n",
    "                                                  test_size = 0.2,\n",
    "                                                  random_state = 42 )\n",
    "train_y=train_y.astype('int')\n",
    "test_y=test_y.astype('int')\n",
    "\n"
   ]
  },
  {
   "cell_type": "code",
   "execution_count": 988,
   "metadata": {},
   "outputs": [
    {
     "data": {
      "text/plain": [
       "array([ 1.08651200e-04,  2.87747686e-02, -2.77109583e-02, -4.86693359e-04,\n",
       "       -2.51292331e-04,  4.81753574e-04,  3.27955771e-04,  2.80116094e-06,\n",
       "       -1.36283985e-04, -1.44789856e-04, -3.32245152e-05, -7.10481835e-05,\n",
       "        2.47336657e-04,  1.37346019e-04, -3.70662064e-05, -1.18372524e-04,\n",
       "        2.34332936e-04,  8.51222714e-05, -3.27953689e-05,  1.77416122e-04,\n",
       "       -1.37318598e-04, -1.65778263e-04])"
      ]
     },
     "execution_count": 988,
     "metadata": {},
     "output_type": "execute_result"
    }
   ],
   "source": [
    "from sklearn.linear_model import LogisticRegression\n",
    "\n",
    "logreg = LogisticRegression()\n",
    "logreg.fit(train_X, train_y)\n",
    "logreg.coef_[0]"
   ]
  },
  {
   "cell_type": "code",
   "execution_count": 989,
   "metadata": {},
   "outputs": [
    {
     "name": "stdout",
     "output_type": "stream",
     "text": [
      "[[11094  1047   240]\n",
      " [ 5122  1699   141]\n",
      " [ 6352  1111   168]]\n"
     ]
    }
   ],
   "source": [
    "from sklearn import metrics\n",
    "y_pred=logreg.predict(test_X)\n",
    "cnf_matrix = metrics.confusion_matrix(test_y, y_pred)\n",
    "print(cnf_matrix)"
   ]
  },
  {
   "cell_type": "code",
   "execution_count": 990,
   "metadata": {},
   "outputs": [
    {
     "name": "stdout",
     "output_type": "stream",
     "text": [
      "Accuracy: 0.48049974049084304\n",
      "Precision: 0.48049974049084304\n",
      "Recall: 0.48049974049084304\n"
     ]
    }
   ],
   "source": [
    "print(\"Accuracy:\",metrics.accuracy_score(test_y, y_pred))\n",
    "print(\"Precision:\",metrics.precision_score(test_y, y_pred,average='micro'))\n",
    "print(\"Recall:\",metrics.recall_score(test_y, y_pred,average='micro'))"
   ]
  },
  {
   "cell_type": "markdown",
   "metadata": {},
   "source": [
    "The result is better than a random classifier.\n",
    "As the confusion matrix shows the models is skewed toward HomeWin too much.\n",
    "Let'see what happen to the train testing in order to see if it underfitting or not"
   ]
  },
  {
   "cell_type": "code",
   "execution_count": 991,
   "metadata": {},
   "outputs": [
    {
     "name": "stdout",
     "output_type": "stream",
     "text": [
      "[[44681  4200   952]\n",
      " [20500  6705   597]\n",
      " [25342  4245   673]]\n"
     ]
    }
   ],
   "source": [
    "y_pred=logreg.predict(train_X)\n",
    "cnf_matrix = metrics.confusion_matrix(train_y, y_pred)\n",
    "print(cnf_matrix)"
   ]
  },
  {
   "cell_type": "code",
   "execution_count": 992,
   "metadata": {},
   "outputs": [
    {
     "name": "stdout",
     "output_type": "stream",
     "text": [
      "Accuracy: 0.4824968719588489\n",
      "Precision: 0.4824968719588489\n",
      "Recall: 0.4824968719588489\n"
     ]
    }
   ],
   "source": [
    "print(\"Accuracy:\",metrics.accuracy_score(train_y, y_pred))\n",
    "print(\"Precision:\",metrics.precision_score(train_y, y_pred,average='micro'))\n",
    "print(\"Recall:\",metrics.recall_score(train_y, y_pred,average='micro'))"
   ]
  },
  {
   "cell_type": "markdown",
   "metadata": {},
   "source": [
    "The result is the same and it leads to conclude that the model is not overfitting.\n",
    "So probably we have to add new features in order to add new information to the model\n",
    "Let's see by random forest the feature importance in order to get any hint"
   ]
  },
  {
   "cell_type": "code",
   "execution_count": 993,
   "metadata": {},
   "outputs": [],
   "source": [
    "randomForest = sklearn.ensemble.RandomForestClassifier(n_estimators=30,random_state=42)\n",
    "randomForest.fit(train_X, train_y)\n",
    "predictions = randomForest.predict(test_X)"
   ]
  },
  {
   "cell_type": "code",
   "execution_count": 994,
   "metadata": {},
   "outputs": [
    {
     "data": {
      "text/plain": [
       "Text(0.5, 0, 'Feature Importance')"
      ]
     },
     "execution_count": 994,
     "metadata": {},
     "output_type": "execute_result"
    },
    {
     "data": {
      "image/png": "[encoded data removed]",
      "text/plain": [
       "<Figure size 720x720 with 1 Axes>"
      ]
     },
     "metadata": {
      "needs_background": "light"
     },
     "output_type": "display_data"
    }
   ],
   "source": [
    "sort = randomForest.feature_importances_.argsort()\n",
    "plt.figure(figsize=(10, 10))\n",
    "plt.barh(matchesFirstModel.columns[sort], randomForest.feature_importances_[sort])\n",
    "plt.xlabel(\"Feature Importance\")"
   ]
  },
  {
   "cell_type": "markdown",
   "metadata": {},
   "source": [
    "It seems that the most important features are linked to performance of the teams rather than general conditions like Capacity or League.\n",
    "An idea is to take in account other factors about the performance of the teams along the season like goals and yellow or red card\n"
   ]
  },
  {
   "cell_type": "code",
   "execution_count": 995,
   "metadata": {},
   "outputs": [],
   "source": [
    "nCol=len(matches.columns)\n",
    "matches.insert(nCol, 'Goal_Scored_HomeTeam', 0)\n"
   ]
  },
  {
   "cell_type": "code",
   "execution_count": 996,
   "metadata": {},
   "outputs": [],
   "source": [
    "nCol=len(matches.columns)\n",
    "matches.insert(nCol, 'Goal_Collected_HomeTeam', 0)"
   ]
  },
  {
   "cell_type": "code",
   "execution_count": 997,
   "metadata": {},
   "outputs": [],
   "source": [
    "nCol=len(matches.columns)\n",
    "matches.insert(nCol, 'Goal_Scored_AwayTeam', 0)"
   ]
  },
  {
   "cell_type": "code",
   "execution_count": 998,
   "metadata": {},
   "outputs": [],
   "source": [
    "nCol=len(matches.columns)\n",
    "matches.insert(nCol, 'Goal_Collected_AwayTeam', 0)"
   ]
  },
  {
   "cell_type": "code",
   "execution_count": 999,
   "metadata": {},
   "outputs": [],
   "source": [
    "nCol=len(matches.columns)\n",
    "matches.insert(nCol, 'Yellow_Collected_HomeTeam', 0)"
   ]
  },
  {
   "cell_type": "code",
   "execution_count": 1000,
   "metadata": {},
   "outputs": [],
   "source": [
    "nCol=len(matches.columns)\n",
    "matches.insert(nCol, 'Red_Collected_HomeTeam', 0)"
   ]
  },
  {
   "cell_type": "code",
   "execution_count": 1001,
   "metadata": {},
   "outputs": [],
   "source": [
    "nCol=len(matches.columns)\n",
    "matches.insert(nCol, 'Yellow_Collected_AwayTeam', 0)"
   ]
  },
  {
   "cell_type": "code",
   "execution_count": 1002,
   "metadata": {},
   "outputs": [],
   "source": [
    "nCol=len(matches.columns)\n",
    "matches.insert(nCol, 'Red_Collected_AwayTeam', 0)"
   ]
  },
  {
   "cell_type": "code",
   "execution_count": 1003,
   "metadata": {},
   "outputs": [],
   "source": [
    "currentSeason = matches.iloc[0][\"Season\"]\n",
    "currentLeague = matches.iloc[0][\"League\"]\n",
    "TeamDesc = {}"
   ]
  },
  {
   "cell_type": "code",
   "execution_count": 1004,
   "metadata": {},
   "outputs": [],
   "source": [
    "class Team:\n",
    "  def __init__(self, goalScored, goalCollected, redCards, yellowCards):\n",
    "    self.goalScored = goalScored\n",
    "    self.goalCollected = goalCollected\n",
    "    self.redCards = redCards\n",
    "    self.yellowCards = yellowCards"
   ]
  },
  {
   "cell_type": "code",
   "execution_count": 1005,
   "metadata": {},
   "outputs": [],
   "source": [
    "def AddMatch(HomeTeam,AwayTeam,GoalHome,GoalAway,YellowHome,RedHome,YellowAway,RedAway):\n",
    "    if HomeTeam in TeamDesc:\n",
    "        homeTeam = TeamDesc[HomeTeam]\n",
    "        homeTeam.goalScored = homeTeam.goalScored + GoalHome\n",
    "        homeTeam.goalCollected = homeTeam.goalCollected + GoalAway\n",
    "        homeTeam.redCards = homeTeam.redCards + RedHome\n",
    "        homeTeam.yellowCards = homeTeam.yellowCards + YellowHome\n",
    "    else:\n",
    "        homeTeam = Team(GoalHome,GoalAway,YellowHome,RedHome)\n",
    "        TeamDesc[HomeTeam] = homeTeam\n",
    "        \n",
    "    if AwayTeam in TeamDesc:\n",
    "        awayTeam = TeamDesc[AwayTeam]\n",
    "        awayTeam.goalScored = awayTeam.goalScored + GoalAway\n",
    "        awayTeam.goalCollected = awayTeam.goalCollected + GoalHome\n",
    "        awayTeam.redCards = awayTeam.redCards + RedAway\n",
    "        awayTeam.yellowCards = awayTeam.yellowCards + YellowAway\n",
    "    else:\n",
    "        awayTeam = Team(GoalAway,GoalHome,YellowAway,RedAway)\n",
    "        TeamDesc[AwayTeam] = awayTeam\n",
    "    "
   ]
  },
  {
   "cell_type": "code",
   "execution_count": 1006,
   "metadata": {},
   "outputs": [],
   "source": [
    "def UpdateTeamDesc(match):\n",
    "    global currentSeason\n",
    "    global TeamDesc\n",
    "    season = match[\"Season\"]\n",
    "    if season != currentSeason:\n",
    "        TeamDesc = {}\n",
    "        currentSeason=season\n",
    "    goals = match.Result.split(\"-\")\n",
    "    homeGoals = int(goals[0])\n",
    "    awayGoals = int(goals[1])\n",
    "    if match[\"Home_Team\"] in TeamDesc.keys():\n",
    "        match[\"Goal_Scored_HomeTeam\"] =  TeamDesc[match[\"Home_Team\"]].goalScored\n",
    "        match[\"Goal_Collected_HomeTeam\"] =  TeamDesc[match[\"Home_Team\"]].goalCollected\n",
    "        match[\"Yellow_Collected_HomeTeam\"] =  TeamDesc[match[\"Home_Team\"]].yellowCards\n",
    "        match[\"Red_Collected_HomeTeam\"] =  TeamDesc[match[\"Home_Team\"]].redCards\n",
    "    else:\n",
    "        match[\"Goal_Scored_HomeTeam\"] = 0\n",
    "        match[\"Goal_Collected_HomeTeam\"] = 0 \n",
    "        match[\"Yellow_Collected_HomeTeam\"] = 0\n",
    "        match[\"Red_Collected_HomeTeam\"] = 0 \n",
    "\n",
    "    if match[\"Away_Team\"] in TeamDesc.keys():\n",
    "        match[\"Goal_Scored_AwayTeam\"] =  TeamDesc[match[\"Away_Team\"]].goalScored\n",
    "        match[\"Goal_Collected_AwayTeam\"] =  TeamDesc[match[\"Away_Team\"]].goalCollected\n",
    "        match[\"Yellow_Collected_AwayTeam\"] =  TeamDesc[match[\"Away_Team\"]].yellowCards\n",
    "        match[\"Red_Collected_AwayTeam\"] =  TeamDesc[match[\"Away_Team\"]].redCards\n",
    "    else:\n",
    "        match[\"Goal_Scored_AwayTeam\"] = 0\n",
    "        match[\"Goal_Collected_AwayTeam\"] = 0   \n",
    "        match[\"Yellow_Collected_AwayTeam\"] = 0\n",
    "        match[\"Red_Collected_AwayTeam\"] = 0    \n",
    "           \n",
    "    AddMatch(match[\"Home_Team\"],match[\"Away_Team\"],homeGoals,awayGoals,match.Home_Yellow,match.Home_Red,match.Away_Yellow,match.Away_Red)    \n",
    "    return match"
   ]
  },
  {
   "cell_type": "code",
   "execution_count": 1007,
   "metadata": {},
   "outputs": [],
   "source": [
    "matches = matches.apply(UpdateTeamDesc,axis=1)"
   ]
  },
  {
   "cell_type": "code",
   "execution_count": 1008,
   "metadata": {},
   "outputs": [],
   "source": [
    "matches.drop('Home_Team',inplace=True,axis = 1)\n",
    "matches.drop('Away_Team',inplace=True,axis = 1)\n",
    "matches.drop('Result',inplace=True,axis = 1)"
   ]
  },
  {
   "cell_type": "code",
   "execution_count": 1009,
   "metadata": {},
   "outputs": [],
   "source": [
    "for c_feature in categorical_features:\n",
    "  matches = create_dummies( matches, c_feature )"
   ]
  },
  {
   "cell_type": "code",
   "execution_count": 1010,
   "metadata": {},
   "outputs": [],
   "source": [
    "nCols = matches.shape[1] -1\n",
    "column_to_move = matches.pop(\"OutCome\")\n",
    "matches.insert(nCols, \"OutCome\", column_to_move)"
   ]
  },
  {
   "cell_type": "code",
   "execution_count": 1011,
   "metadata": {},
   "outputs": [],
   "source": [
    "from sklearn.model_selection import train_test_split\n",
    "\n",
    "matches = matches.dropna()\n",
    "train_X, test_X, train_y, test_y = train_test_split( matches.iloc[:, 0:nCols],\n",
    "                                                  matches['OutCome'],\n",
    "                                                  test_size = 0.2,\n",
    "                                                  random_state = 42 )\n",
    "train_y=train_y.astype('int')\n",
    "test_y=test_y.astype('int')"
   ]
  },
  {
   "cell_type": "code",
   "execution_count": 1012,
   "metadata": {},
   "outputs": [
    {
     "data": {
      "text/html": [
       "<div>\n",
       "<style scoped>\n",
       "    .dataframe tbody tr th:only-of-type {\n",
       "        vertical-align: middle;\n",
       "    }\n",
       "\n",
       "    .dataframe tbody tr th {\n",
       "        vertical-align: top;\n",
       "    }\n",
       "\n",
       "    .dataframe thead th {\n",
       "        text-align: right;\n",
       "    }\n",
       "</style>\n",
       "<table border=\"1\" class=\"dataframe\">\n",
       "  <thead>\n",
       "    <tr style=\"text-align: right;\">\n",
       "      <th></th>\n",
       "      <th>Season</th>\n",
       "      <th>ELO_Home</th>\n",
       "      <th>ELO_Away</th>\n",
       "      <th>Home_Yellow</th>\n",
       "      <th>Home_Red</th>\n",
       "      <th>Away_Yellow</th>\n",
       "      <th>Away_Red</th>\n",
       "      <th>Capacity</th>\n",
       "      <th>Goal_Scored_HomeTeam</th>\n",
       "      <th>Goal_Collected_HomeTeam</th>\n",
       "      <th>...</th>\n",
       "      <th>League_eredivisie</th>\n",
       "      <th>League_ligue_1</th>\n",
       "      <th>League_ligue_2</th>\n",
       "      <th>League_premier_league</th>\n",
       "      <th>League_primeira_liga</th>\n",
       "      <th>League_primera_division</th>\n",
       "      <th>League_segunda_division</th>\n",
       "      <th>League_segunda_liga</th>\n",
       "      <th>League_serie_a</th>\n",
       "      <th>League_serie_b</th>\n",
       "    </tr>\n",
       "  </thead>\n",
       "  <tbody>\n",
       "    <tr>\n",
       "      <th>64592</th>\n",
       "      <td>2012</td>\n",
       "      <td>61.0</td>\n",
       "      <td>64.0</td>\n",
       "      <td>2.0</td>\n",
       "      <td>0.0</td>\n",
       "      <td>2.0</td>\n",
       "      <td>0.0</td>\n",
       "      <td>25064.0</td>\n",
       "      <td>25</td>\n",
       "      <td>28</td>\n",
       "      <td>...</td>\n",
       "      <td>0</td>\n",
       "      <td>0</td>\n",
       "      <td>1</td>\n",
       "      <td>0</td>\n",
       "      <td>0</td>\n",
       "      <td>0</td>\n",
       "      <td>0</td>\n",
       "      <td>0</td>\n",
       "      <td>0</td>\n",
       "      <td>0</td>\n",
       "    </tr>\n",
       "    <tr>\n",
       "      <th>37247</th>\n",
       "      <td>1994</td>\n",
       "      <td>78.0</td>\n",
       "      <td>82.0</td>\n",
       "      <td>0.0</td>\n",
       "      <td>0.0</td>\n",
       "      <td>2.0</td>\n",
       "      <td>0.0</td>\n",
       "      <td>28278.0</td>\n",
       "      <td>58</td>\n",
       "      <td>32</td>\n",
       "      <td>...</td>\n",
       "      <td>1</td>\n",
       "      <td>0</td>\n",
       "      <td>0</td>\n",
       "      <td>0</td>\n",
       "      <td>0</td>\n",
       "      <td>0</td>\n",
       "      <td>0</td>\n",
       "      <td>0</td>\n",
       "      <td>0</td>\n",
       "      <td>0</td>\n",
       "    </tr>\n",
       "    <tr>\n",
       "      <th>13970</th>\n",
       "      <td>2002</td>\n",
       "      <td>79.0</td>\n",
       "      <td>73.0</td>\n",
       "      <td>3.0</td>\n",
       "      <td>0.0</td>\n",
       "      <td>3.0</td>\n",
       "      <td>1.0</td>\n",
       "      <td>57030.0</td>\n",
       "      <td>29</td>\n",
       "      <td>35</td>\n",
       "      <td>...</td>\n",
       "      <td>0</td>\n",
       "      <td>0</td>\n",
       "      <td>0</td>\n",
       "      <td>0</td>\n",
       "      <td>0</td>\n",
       "      <td>0</td>\n",
       "      <td>0</td>\n",
       "      <td>0</td>\n",
       "      <td>0</td>\n",
       "      <td>0</td>\n",
       "    </tr>\n",
       "    <tr>\n",
       "      <th>139979</th>\n",
       "      <td>2007</td>\n",
       "      <td>42.0</td>\n",
       "      <td>61.0</td>\n",
       "      <td>0.0</td>\n",
       "      <td>0.0</td>\n",
       "      <td>0.0</td>\n",
       "      <td>0.0</td>\n",
       "      <td>16227.0</td>\n",
       "      <td>9</td>\n",
       "      <td>7</td>\n",
       "      <td>...</td>\n",
       "      <td>0</td>\n",
       "      <td>0</td>\n",
       "      <td>0</td>\n",
       "      <td>0</td>\n",
       "      <td>0</td>\n",
       "      <td>0</td>\n",
       "      <td>0</td>\n",
       "      <td>0</td>\n",
       "      <td>0</td>\n",
       "      <td>1</td>\n",
       "    </tr>\n",
       "    <tr>\n",
       "      <th>138495</th>\n",
       "      <td>2004</td>\n",
       "      <td>47.0</td>\n",
       "      <td>62.0</td>\n",
       "      <td>3.0</td>\n",
       "      <td>1.0</td>\n",
       "      <td>2.0</td>\n",
       "      <td>0.0</td>\n",
       "      <td>10215.0</td>\n",
       "      <td>6</td>\n",
       "      <td>7</td>\n",
       "      <td>...</td>\n",
       "      <td>0</td>\n",
       "      <td>0</td>\n",
       "      <td>0</td>\n",
       "      <td>0</td>\n",
       "      <td>0</td>\n",
       "      <td>0</td>\n",
       "      <td>0</td>\n",
       "      <td>0</td>\n",
       "      <td>0</td>\n",
       "      <td>1</td>\n",
       "    </tr>\n",
       "    <tr>\n",
       "      <th>...</th>\n",
       "      <td>...</td>\n",
       "      <td>...</td>\n",
       "      <td>...</td>\n",
       "      <td>...</td>\n",
       "      <td>...</td>\n",
       "      <td>...</td>\n",
       "      <td>...</td>\n",
       "      <td>...</td>\n",
       "      <td>...</td>\n",
       "      <td>...</td>\n",
       "      <td>...</td>\n",
       "      <td>...</td>\n",
       "      <td>...</td>\n",
       "      <td>...</td>\n",
       "      <td>...</td>\n",
       "      <td>...</td>\n",
       "      <td>...</td>\n",
       "      <td>...</td>\n",
       "      <td>...</td>\n",
       "      <td>...</td>\n",
       "      <td>...</td>\n",
       "    </tr>\n",
       "    <tr>\n",
       "      <th>137681</th>\n",
       "      <td>2002</td>\n",
       "      <td>56.0</td>\n",
       "      <td>43.0</td>\n",
       "      <td>4.0</td>\n",
       "      <td>0.0</td>\n",
       "      <td>2.0</td>\n",
       "      <td>0.0</td>\n",
       "      <td>36703.0</td>\n",
       "      <td>1</td>\n",
       "      <td>2</td>\n",
       "      <td>...</td>\n",
       "      <td>0</td>\n",
       "      <td>0</td>\n",
       "      <td>0</td>\n",
       "      <td>0</td>\n",
       "      <td>0</td>\n",
       "      <td>0</td>\n",
       "      <td>0</td>\n",
       "      <td>0</td>\n",
       "      <td>0</td>\n",
       "      <td>1</td>\n",
       "    </tr>\n",
       "    <tr>\n",
       "      <th>55379</th>\n",
       "      <td>2017</td>\n",
       "      <td>81.0</td>\n",
       "      <td>68.0</td>\n",
       "      <td>0.0</td>\n",
       "      <td>0.0</td>\n",
       "      <td>0.0</td>\n",
       "      <td>0.0</td>\n",
       "      <td>49834.0</td>\n",
       "      <td>7</td>\n",
       "      <td>14</td>\n",
       "      <td>...</td>\n",
       "      <td>0</td>\n",
       "      <td>1</td>\n",
       "      <td>0</td>\n",
       "      <td>0</td>\n",
       "      <td>0</td>\n",
       "      <td>0</td>\n",
       "      <td>0</td>\n",
       "      <td>0</td>\n",
       "      <td>0</td>\n",
       "      <td>0</td>\n",
       "    </tr>\n",
       "    <tr>\n",
       "      <th>16322</th>\n",
       "      <td>2010</td>\n",
       "      <td>66.0</td>\n",
       "      <td>83.0</td>\n",
       "      <td>0.0</td>\n",
       "      <td>0.0</td>\n",
       "      <td>0.0</td>\n",
       "      <td>0.0</td>\n",
       "      <td>21000.0</td>\n",
       "      <td>19</td>\n",
       "      <td>9</td>\n",
       "      <td>...</td>\n",
       "      <td>0</td>\n",
       "      <td>0</td>\n",
       "      <td>0</td>\n",
       "      <td>0</td>\n",
       "      <td>0</td>\n",
       "      <td>0</td>\n",
       "      <td>0</td>\n",
       "      <td>0</td>\n",
       "      <td>0</td>\n",
       "      <td>0</td>\n",
       "    </tr>\n",
       "    <tr>\n",
       "      <th>105844</th>\n",
       "      <td>2000</td>\n",
       "      <td>51.0</td>\n",
       "      <td>58.0</td>\n",
       "      <td>0.0</td>\n",
       "      <td>0.0</td>\n",
       "      <td>0.0</td>\n",
       "      <td>0.0</td>\n",
       "      <td>33732.0</td>\n",
       "      <td>1</td>\n",
       "      <td>2</td>\n",
       "      <td>...</td>\n",
       "      <td>0</td>\n",
       "      <td>0</td>\n",
       "      <td>0</td>\n",
       "      <td>0</td>\n",
       "      <td>0</td>\n",
       "      <td>0</td>\n",
       "      <td>1</td>\n",
       "      <td>0</td>\n",
       "      <td>0</td>\n",
       "      <td>0</td>\n",
       "    </tr>\n",
       "    <tr>\n",
       "      <th>46027</th>\n",
       "      <td>1991</td>\n",
       "      <td>75.0</td>\n",
       "      <td>73.0</td>\n",
       "      <td>2.0</td>\n",
       "      <td>0.0</td>\n",
       "      <td>3.0</td>\n",
       "      <td>0.0</td>\n",
       "      <td>35472.0</td>\n",
       "      <td>18</td>\n",
       "      <td>30</td>\n",
       "      <td>...</td>\n",
       "      <td>0</td>\n",
       "      <td>1</td>\n",
       "      <td>0</td>\n",
       "      <td>0</td>\n",
       "      <td>0</td>\n",
       "      <td>0</td>\n",
       "      <td>0</td>\n",
       "      <td>0</td>\n",
       "      <td>0</td>\n",
       "      <td>0</td>\n",
       "    </tr>\n",
       "  </tbody>\n",
       "</table>\n",
       "<p>26974 rows × 30 columns</p>\n",
       "</div>"
      ],
      "text/plain": [
       "        Season  ELO_Home  ELO_Away  Home_Yellow  Home_Red  Away_Yellow  \\\n",
       "64592     2012      61.0      64.0          2.0       0.0          2.0   \n",
       "37247     1994      78.0      82.0          0.0       0.0          2.0   \n",
       "13970     2002      79.0      73.0          3.0       0.0          3.0   \n",
       "139979    2007      42.0      61.0          0.0       0.0          0.0   \n",
       "138495    2004      47.0      62.0          3.0       1.0          2.0   \n",
       "...        ...       ...       ...          ...       ...          ...   \n",
       "137681    2002      56.0      43.0          4.0       0.0          2.0   \n",
       "55379     2017      81.0      68.0          0.0       0.0          0.0   \n",
       "16322     2010      66.0      83.0          0.0       0.0          0.0   \n",
       "105844    2000      51.0      58.0          0.0       0.0          0.0   \n",
       "46027     1991      75.0      73.0          2.0       0.0          3.0   \n",
       "\n",
       "        Away_Red  Capacity  Goal_Scored_HomeTeam  Goal_Collected_HomeTeam  \\\n",
       "64592        0.0   25064.0                    25                       28   \n",
       "37247        0.0   28278.0                    58                       32   \n",
       "13970        1.0   57030.0                    29                       35   \n",
       "139979       0.0   16227.0                     9                        7   \n",
       "138495       0.0   10215.0                     6                        7   \n",
       "...          ...       ...                   ...                      ...   \n",
       "137681       0.0   36703.0                     1                        2   \n",
       "55379        0.0   49834.0                     7                       14   \n",
       "16322        0.0   21000.0                    19                        9   \n",
       "105844       0.0   33732.0                     1                        2   \n",
       "46027        0.0   35472.0                    18                       30   \n",
       "\n",
       "        ...  League_eredivisie  League_ligue_1  League_ligue_2  \\\n",
       "64592   ...                  0               0               1   \n",
       "37247   ...                  1               0               0   \n",
       "13970   ...                  0               0               0   \n",
       "139979  ...                  0               0               0   \n",
       "138495  ...                  0               0               0   \n",
       "...     ...                ...             ...             ...   \n",
       "137681  ...                  0               0               0   \n",
       "55379   ...                  0               1               0   \n",
       "16322   ...                  0               0               0   \n",
       "105844  ...                  0               0               0   \n",
       "46027   ...                  0               1               0   \n",
       "\n",
       "        League_premier_league  League_primeira_liga  League_primera_division  \\\n",
       "64592                       0                     0                        0   \n",
       "37247                       0                     0                        0   \n",
       "13970                       0                     0                        0   \n",
       "139979                      0                     0                        0   \n",
       "138495                      0                     0                        0   \n",
       "...                       ...                   ...                      ...   \n",
       "137681                      0                     0                        0   \n",
       "55379                       0                     0                        0   \n",
       "16322                       0                     0                        0   \n",
       "105844                      0                     0                        0   \n",
       "46027                       0                     0                        0   \n",
       "\n",
       "        League_segunda_division  League_segunda_liga  League_serie_a  \\\n",
       "64592                         0                    0               0   \n",
       "37247                         0                    0               0   \n",
       "13970                         0                    0               0   \n",
       "139979                        0                    0               0   \n",
       "138495                        0                    0               0   \n",
       "...                         ...                  ...             ...   \n",
       "137681                        0                    0               0   \n",
       "55379                         0                    0               0   \n",
       "16322                         0                    0               0   \n",
       "105844                        1                    0               0   \n",
       "46027                         0                    0               0   \n",
       "\n",
       "        League_serie_b  \n",
       "64592                0  \n",
       "37247                0  \n",
       "13970                0  \n",
       "139979               1  \n",
       "138495               1  \n",
       "...                ...  \n",
       "137681               1  \n",
       "55379                0  \n",
       "16322                0  \n",
       "105844               0  \n",
       "46027                0  \n",
       "\n",
       "[26974 rows x 30 columns]"
      ]
     },
     "execution_count": 1012,
     "metadata": {},
     "output_type": "execute_result"
    }
   ],
   "source": [
    "test_X"
   ]
  },
  {
   "cell_type": "code",
   "execution_count": 1013,
   "metadata": {},
   "outputs": [
    {
     "name": "stdout",
     "output_type": "stream",
     "text": [
      "[[10889  1277   215]\n",
      " [ 4221  2377   364]\n",
      " [ 6157  1233   241]]\n"
     ]
    },
    {
     "name": "stderr",
     "output_type": "stream",
     "text": [
      "c:\\progetti Python\\Football Match Outcome Prediction\\AiCoreFootballProject\\Football-Match-Outcome-Prediction\\lib\\site-packages\\sklearn\\linear_model\\_logistic.py:814: ConvergenceWarning: lbfgs failed to converge (status=1):\n",
      "STOP: TOTAL NO. of ITERATIONS REACHED LIMIT.\n",
      "\n",
      "Increase the number of iterations (max_iter) or scale the data as shown in:\n",
      "    https://scikit-learn.org/stable/modules/preprocessing.html\n",
      "Please also refer to the documentation for alternative solver options:\n",
      "    https://scikit-learn.org/stable/modules/linear_model.html#logistic-regression\n",
      "  n_iter_i = _check_optimize_result(\n"
     ]
    }
   ],
   "source": [
    "logreg.fit(train_X, train_y)\n",
    "logreg.coef_[0]\n",
    "y_pred=logreg.predict(test_X)\n",
    "cnf_matrix = metrics.confusion_matrix(test_y, y_pred)\n",
    "print(cnf_matrix)"
   ]
  },
  {
   "cell_type": "code",
   "execution_count": 1014,
   "metadata": {},
   "outputs": [
    {
     "name": "stdout",
     "output_type": "stream",
     "text": [
      "Accuracy: 0.5007414547341885\n",
      "Precision: 0.5007414547341885\n",
      "Recall: 0.5007414547341885\n"
     ]
    }
   ],
   "source": [
    "print(\"Accuracy:\",metrics.accuracy_score(test_y, y_pred))\n",
    "print(\"Precision:\",metrics.precision_score(test_y, y_pred,average='micro'))\n",
    "print(\"Recall:\",metrics.recall_score(test_y, y_pred,average='micro'))"
   ]
  },
  {
   "cell_type": "code",
   "execution_count": 1015,
   "metadata": {},
   "outputs": [],
   "source": [
    "adaBoost = sklearn.ensemble.AdaBoostClassifier()\n",
    "adaBoost.fit(train_X, train_y)\n",
    "predictions = adaBoost.predict(test_X)"
   ]
  },
  {
   "cell_type": "code",
   "execution_count": 1016,
   "metadata": {},
   "outputs": [
    {
     "name": "stdout",
     "output_type": "stream",
     "text": [
      "Accuracy: 0.5205012234003115\n",
      "Precision: 0.5205012234003115\n",
      "Recall: 0.5205012234003115\n"
     ]
    }
   ],
   "source": [
    "print(\"Accuracy:\",metrics.accuracy_score(test_y, predictions))\n",
    "print(\"Precision:\",metrics.precision_score(test_y, predictions,average='micro'))\n",
    "print(\"Recall:\",metrics.recall_score(test_y, predictions,average='micro'))"
   ]
  },
  {
   "cell_type": "code",
   "execution_count": 1017,
   "metadata": {},
   "outputs": [
    {
     "name": "stdout",
     "output_type": "stream",
     "text": [
      "[[10808  1249   324]\n",
      " [ 4180  2393   389]\n",
      " [ 5542  1250   839]]\n"
     ]
    }
   ],
   "source": [
    "cnf_matrix = metrics.confusion_matrix(test_y, predictions)\n",
    "print(cnf_matrix)"
   ]
  },
  {
   "cell_type": "code",
   "execution_count": 1018,
   "metadata": {},
   "outputs": [],
   "source": [
    "randomForest = sklearn.ensemble.RandomForestClassifier(n_estimators=30,random_state=42)\n",
    "randomForest.fit(train_X, train_y)\n",
    "predictions = randomForest.predict(test_X)"
   ]
  },
  {
   "cell_type": "code",
   "execution_count": 1019,
   "metadata": {},
   "outputs": [
    {
     "data": {
      "text/plain": [
       "Text(0.5, 0, 'Feature Importance')"
      ]
     },
     "execution_count": 1019,
     "metadata": {},
     "output_type": "execute_result"
    },
    {
     "data": {
      "image/png": "[encoded data removed]",
      "text/plain": [
       "<Figure size 720x720 with 1 Axes>"
      ]
     },
     "metadata": {
      "needs_background": "light"
     },
     "output_type": "display_data"
    }
   ],
   "source": [
    "sort = randomForest.feature_importances_.argsort()\n",
    "plt.figure(figsize=(10, 10))\n",
    "plt.barh(matches.columns[sort], randomForest.feature_importances_[sort])\n",
    "plt.xlabel(\"Feature Importance\")"
   ]
  },
  {
   "cell_type": "code",
   "execution_count": 1020,
   "metadata": {},
   "outputs": [
    {
     "name": "stdout",
     "output_type": "stream",
     "text": [
      "Accuracy: 0.5156446948913769\n",
      "Precision: 0.5156446948913769\n",
      "Recall: 0.5156446948913769\n"
     ]
    }
   ],
   "source": [
    "print(\"Accuracy:\",metrics.accuracy_score(test_y, predictions))\n",
    "print(\"Precision:\",metrics.precision_score(test_y, predictions,average='micro'))\n",
    "print(\"Recall:\",metrics.recall_score(test_y, predictions,average='micro'))"
   ]
  },
  {
   "cell_type": "code",
   "execution_count": 1021,
   "metadata": {},
   "outputs": [
    {
     "name": "stdout",
     "output_type": "stream",
     "text": [
      "Accuracy: 0.522 (0.005)\n"
     ]
    }
   ],
   "source": [
    "cv = KFold(n_splits=10, random_state=1, shuffle=True)\n",
    "scores = cross_val_score(adaBoost, matches.iloc[:, 0:nCols],matches['OutCome'], scoring='accuracy', cv=cv, n_jobs=-1)\n",
    "print('Accuracy: %.3f (%.3f)' % (mean(scores), std(scores)))"
   ]
  },
  {
   "cell_type": "code",
   "execution_count": 1022,
   "metadata": {},
   "outputs": [],
   "source": [
    "matches1990 = matches[matches['Season'] <=2000]\n",
    "matches2000 = matches.query('Season > 2000 and Season <=2010') \n",
    "matches2010 = matches.query('Season > 2010') "
   ]
  },
  {
   "cell_type": "code",
   "execution_count": 1023,
   "metadata": {},
   "outputs": [],
   "source": [
    "train1990_X, test1990_X, train1990_y, test1990_y = train_test_split( matches1990.iloc[:, 0:nCols],\n",
    "                                                  matches1990['OutCome'],\n",
    "                                                  test_size = 0.2,\n",
    "                                                  random_state = 42 )"
   ]
  },
  {
   "cell_type": "code",
   "execution_count": 1024,
   "metadata": {},
   "outputs": [],
   "source": [
    "train2000_X, test2000_X, train2000_y, test2000_y = train_test_split( matches2000.iloc[:, 0:nCols],\n",
    "                                                  matches2000['OutCome'],\n",
    "                                                  test_size = 0.2,\n",
    "                                                  random_state = 42 )"
   ]
  },
  {
   "cell_type": "code",
   "execution_count": 1025,
   "metadata": {},
   "outputs": [],
   "source": [
    "train2010_X, test2010_X, train2010_y, test2010_y = train_test_split( matches2010.iloc[:, 0:nCols],\n",
    "                                                  matches2010['OutCome'],\n",
    "                                                  test_size = 0.2,\n",
    "                                                  random_state = 42 )"
   ]
  },
  {
   "cell_type": "code",
   "execution_count": 894,
   "metadata": {},
   "outputs": [],
   "source": [
    "adaBoost1990 = sklearn.ensemble.AdaBoostClassifier()\n",
    "adaBoost2000 = sklearn.ensemble.AdaBoostClassifier()\n",
    "adaBoost2010 = sklearn.ensemble.AdaBoostClassifier()\n",
    "\n",
    "adaBoost1990.fit(train1990_X, train1990_y)\n",
    "predictions1990 = adaBoost1990.predict(test1990_X)\n",
    "\n",
    "adaBoost2000.fit(train2000_X, train2000_y)\n",
    "predictions2000 = adaBoost2000.predict(test2000_X)\n",
    "\n",
    "adaBoost2010.fit(train2010_X, train2010_y)\n",
    "predictions2010 = adaBoost2010.predict(test2010_X)"
   ]
  },
  {
   "cell_type": "code",
   "execution_count": 895,
   "metadata": {},
   "outputs": [
    {
     "name": "stdout",
     "output_type": "stream",
     "text": [
      "Accuracy: 0.507 (0.005)\n"
     ]
    }
   ],
   "source": [
    "cv = KFold(n_splits=10, random_state=1, shuffle=True)\n",
    "scores = cross_val_score(adaBoost1990, matches1990.iloc[:, 0:nCols],matches1990['OutCome'], scoring='accuracy', cv=cv, n_jobs=-1)\n",
    "print('Accuracy: %.3f (%.3f)' % (mean(scores), std(scores)))"
   ]
  },
  {
   "cell_type": "code",
   "execution_count": 73,
   "metadata": {},
   "outputs": [
    {
     "name": "stdout",
     "output_type": "stream",
     "text": [
      "Accuracy: 0.503 (0.013)\n"
     ]
    }
   ],
   "source": [
    "cv = KFold(n_splits=10, random_state=1, shuffle=True)\n",
    "scores = cross_val_score(adaBoost2000, matches2000.iloc[:, 0:nCols],matches2000['OutCome'], scoring='accuracy', cv=cv, n_jobs=-1)\n",
    "print('Accuracy: %.3f (%.3f)' % (mean(scores), std(scores)))"
   ]
  },
  {
   "cell_type": "code",
   "execution_count": 896,
   "metadata": {},
   "outputs": [
    {
     "name": "stdout",
     "output_type": "stream",
     "text": [
      "Accuracy: 0.530 (0.007)\n"
     ]
    }
   ],
   "source": [
    "cv = KFold(n_splits=10, random_state=1, shuffle=True)\n",
    "scores = cross_val_score(adaBoost2010, matches2010.iloc[:, 0:nCols],matches2010['OutCome'], scoring='accuracy', cv=cv, n_jobs=-1)\n",
    "print('Accuracy: %.3f (%.3f)' % (mean(scores), std(scores)))"
   ]
  },
  {
   "cell_type": "code",
   "execution_count": null,
   "metadata": {},
   "outputs": [],
   "source": [
    "#pre_process = ColumnTransformer(remainder='passthrough',\n",
    "                                #transformers=[('drop_columns', 'drop', ['Link',\n",
    "                                                                        #'Round',\n",
    "                                                                        #'Country',\n",
    "                                                                        #'Stadium',\n",
    "                                                                        #'Referee',\n",
    "                                                                        #'Date_New',\n",
    "                                                                        #'City'\n",
    "                                                                       ]),\n",
    "                                              #('fill_capacity', SimpleImputer(strategy='median'), ['Capacity']),\n",
    "                                              \n",
    "                                              #('scale_data', StandardScaler(),['Item_MRP'])])\n"
   ]
  },
  {
   "cell_type": "code",
   "execution_count": null,
   "metadata": {},
   "outputs": [],
   "source": [
    "#model_pipeline = Pipeline(steps=[('get_outlet_binary_columns', OutletTypeEncoder()), \n",
    "                                 #('pre_processing',pre_process),\n",
    "                                # ('random_forest', RandomForestRegressor(max_depth=10,random_state=2))\n",
    "                                #])"
   ]
  }
 ],
 "metadata": {
  "kernelspec": {
   "display_name": "Python 3",
   "language": "python",
   "name": "python3"
  },
  "language_info": {
   "codemirror_mode": {
    "name": "ipython",
    "version": 3
   },
   "file_extension": ".py",
   "mimetype": "text/x-python",
   "name": "python",
   "nbconvert_exporter": "python",
   "pygments_lexer": "ipython3",
   "version": "3.8.2"
  }
 },
 "nbformat": 4,
 "nbformat_minor": 4
}
